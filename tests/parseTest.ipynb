{
 "cells": [
  {
   "cell_type": "code",
   "execution_count": 3,
   "metadata": {},
   "outputs": [],
   "source": [
    "import numpy as np\n",
    "from bitcoinlib.services.services import Service\n",
    "import hashlib"
   ]
  },
  {
   "cell_type": "code",
   "execution_count": 40,
   "metadata": {},
   "outputs": [],
   "source": [
    "from datetime import datetime"
   ]
  },
  {
   "cell_type": "code",
   "execution_count": 5,
   "metadata": {},
   "outputs": [],
   "source": [
    "import hashlib"
   ]
  },
  {
   "cell_type": "code",
   "execution_count": 6,
   "metadata": {},
   "outputs": [],
   "source": [
    "srv = Service()\n",
    "block = srv.getrawblock(511114)"
   ]
  },
  {
   "cell_type": "code",
   "execution_count": 25,
   "metadata": {},
   "outputs": [
    {
     "data": {
      "text/plain": [
       "b'\\x00\\x00\\x00 \\xdf\\x03\\x96\\xcd\\xa6\\x9e\\xd8\\x8c\\x9c\\x01\\xe3G{\\x07\\xd5\\x83\\x95\\x8cJ\\x01\\xb2#H\\x00\\x00\\x00\\x00\\x00\\x00\\x00\\x00\\x00\\xbf\\xc2\\xd35\\x18\\t\\x04:\\xa7 \\x80\\x07rB\\x9a8\\xa1\\xf2\\x94\\xceK\\x08\\xee\\x85=+\\xb0\\x88F,\\x82\\xa7\\xcc\\x06\\x95Z\\xdc\\x97]\\x17\\xf2E\\xdc\\x10'"
      ]
     },
     "execution_count": 25,
     "metadata": {},
     "output_type": "execute_result"
    }
   ],
   "source": [
    "bhash = block[0:160]\n",
    "s =bytes.fromhex(bhash)\n",
    "s"
   ]
  },
  {
   "cell_type": "code",
   "execution_count": 28,
   "metadata": {},
   "outputs": [
    {
     "data": {
      "text/plain": [
       "69"
      ]
     },
     "execution_count": 28,
     "metadata": {},
     "output_type": "execute_result"
    }
   ],
   "source": [
    "s.find(b'\\x06')"
   ]
  },
  {
   "cell_type": "code",
   "execution_count": 11,
   "metadata": {},
   "outputs": [
    {
     "data": {
      "text/plain": [
       "b'\\x00\\x00\\x00\\x00\\x00\\x00\\x00\\x00\\x00ZC\\xa7\\t\\xfa\\xed\\x11\\xe13\\x1a\\x18\\xb6\\xaa\\x1d\\xba\\xe7\\x0f@IF\\xdf\\xee\\xef'"
      ]
     },
     "execution_count": 11,
     "metadata": {},
     "output_type": "execute_result"
    }
   ],
   "source": [
    "proc = hashlib.sha256(hashlib.sha256(binascii.unhexlify(bhash)).digest()).digest()[::-1]\n",
    "proc"
   ]
  },
  {
   "cell_type": "code",
   "execution_count": 1,
   "metadata": {},
   "outputs": [],
   "source": [
    "def reverseHex(value):\n",
    "    bArray = bytes.fromhex(value)[::-1].hex()\n",
    "    return bArray"
   ]
  },
  {
   "cell_type": "code",
   "execution_count": 11,
   "metadata": {},
   "outputs": [],
   "source": [
    "def littleEndian(value):\n",
    "    bArray = bytes.fromhex(value)[::-1].hex()\n",
    "    return bArray"
   ]
  },
  {
   "cell_type": "code",
   "execution_count": 29,
   "metadata": {},
   "outputs": [],
   "source": [
    "def getVariableInt(value):\n",
    "    if(int(value[0:2], 16) < int(\"fd\", 16)):\n",
    "        return value[0:2]\n",
    "    elif(int(value[0:2], 16) == int(\"fd\", 16)):\n",
    "        return value[2:6]\n",
    "    elif(int(value[0:2], 16) == int(\"fe\", 16)):\n",
    "        return value[2:10]\n",
    "    elif(int(value[0:2], 16) == int(\"ff\", 16)):\n",
    "        return value[2:18]\n",
    "   "
   ]
  },
  {
   "cell_type": "code",
   "execution_count": 30,
   "metadata": {},
   "outputs": [],
   "source": [
    "def isNotFlag(value):\n",
    "    return bool(int(value, 16))"
   ]
  },
  {
   "cell_type": "code",
   "execution_count": 14,
   "metadata": {},
   "outputs": [],
   "source": [
    "offset = 0\n",
    "blockJSON = {}\n",
    "blockJSON[\"blockheader\"]={}\n",
    "transactions = []\n",
    "blockJSON[\"blockheader\"][\"version\"] = littleEndian(block[offset:offset+8]); offset+=8\n",
    "blockJSON[\"blockheader\"][\"prev_block\"] = littleEndian(block[offset:offset+64]); offset+=64\n",
    "blockJSON[\"blockheader\"][\"merkle_root\"] = littleEndian(block[offset:offset+64]); offset+=64\n",
    "blockJSON[\"blockheader\"][\"timestamp\"] = littleEndian(block[offset:offset+8]); offset+=8\n",
    "blockJSON[\"blockheader\"][\"bits\"] = littleEndian(block[offset:offset+8]); offset+=8\n",
    "blockJSON[\"blockheader\"][\"nonce\"] = littleEndian(block[offset:offset+8]); offset+=8\n",
    "blockJSON[\"tx_cnt\"] = littleEndian(getVariableInt(block[offset:offset+18]))\n",
    "offset = offset+len(blockJSON[\"tx_cnt\"]) if len(blockJSON[\"tx_cnt\"]) <= 2 else offset+len(blockJSON[\"tx_cnt\"])+2"
   ]
  },
  {
   "cell_type": "code",
   "execution_count": 31,
   "metadata": {},
   "outputs": [
    {
     "data": {
      "text/plain": [
       "'0716'"
      ]
     },
     "execution_count": 31,
     "metadata": {},
     "output_type": "execute_result"
    }
   ],
   "source": [
    "tx_cnt = blockJSON[\"tx_cnt\"]\n",
    "tx_cnt"
   ]
  },
  {
   "cell_type": "code",
   "execution_count": 20,
   "metadata": {},
   "outputs": [
    {
     "data": {
      "text/plain": [
       "'010100000000000000000000'"
      ]
     },
     "execution_count": 20,
     "metadata": {},
     "output_type": "execute_result"
    }
   ],
   "source": [
    "block[176:200]"
   ]
  },
  {
   "cell_type": "code",
   "execution_count": 13,
   "metadata": {},
   "outputs": [],
   "source": [
    "for m in range(int(blockJSON[\"tx_cnt\"], 16)):\n",
    "    tx={}\n",
    "    tx[\"inputs\"] =[]\n",
    "    tx[\"outputs\"] =[]\n",
    "    tx[\"version\"] = littleEndian(block[offset:offset+8]); offset+=8\n",
    "    tx[\"flag\"] = False if isNotFlag(block[offset:offset+2]) else True\n",
    "    offset = offset+4 if tx[\"flag\"] else offset\n",
    "    tx[\"tx_in_cnt\"] = littleEndian(getVariableInt(block[offset:offset+18]))\n",
    "    offset = offset+len(tx[\"tx_in_cnt\"]) if len(tx[\"tx_in_cnt\"]) <= 2 else offset+len(tx[\"tx_in_cnt\"])+2\n",
    "\n",
    "    for i in range(int(tx[\"tx_in_cnt\"], 16)):\n",
    "        tx_in = {}\n",
    "        outpoint={}\n",
    "        outpoint[\"hash\"] = littleEndian(block[offset:offset+64]); offset+=64\n",
    "        outpoint[\"index\"] = littleEndian(block[offset:offset+8]); offset+=8\n",
    "        tx_in[\"prev_out\"] = outpoint\n",
    "        tx_in[\"script_len\"] = littleEndian(getVariableInt(block[offset:offset+18]))\n",
    "        offset = offset+len(tx_in[\"script_len\"]) if len(tx_in[\"script_len\"]) <= 2 else offset+len(tx_in[\"script_len\"])+2\n",
    "        tx_in[\"sig_script\"] = block[offset: offset+(int(tx_in[\"script_len\"], 16)*2)]; offset+= (int(tx_in[\"script_len\"], 16)*2)\n",
    "        tx_in[\"sequence\"] = block[offset:offset+8];offset+=8\n",
    "        tx_in[\"witness\"]=\"\"\n",
    "        tx[\"inputs\"].append(tx_in)\n",
    "\n",
    "    tx[\"tx_out_cnt\"] = littleEndian(getVariableInt(block[offset:offset+18]))\n",
    "    offset = offset+len(tx[\"tx_out_cnt\"]) if len(tx[\"tx_out_cnt\"]) <= 2 else offset+len(tx[\"tx_out_cnt\"])+2\n",
    "\n",
    "    for i in range(int(tx[\"tx_out_cnt\"], 16)):    \n",
    "        tx_out = {}\n",
    "        tx_out[\"value\"] = block[offset:offset+16]; offset+=16\n",
    "        tx_out[\"pk_script_len\"] = littleEndian(getVariableInt(block[offset:offset+18]))\n",
    "        offset = offset+len(tx_out[\"pk_script_len\"]) if len(tx_out[\"pk_script_len\"]) <= 2 else offset+len(tx_out[\"pk_script_len\"])+2\n",
    "        tx_out[\"pk_script\"] = block[offset: offset+(int(tx_out[\"pk_script_len\"], 16)*2)]; offset+= (int(tx_out[\"pk_script_len\"], 16)*2)\n",
    "        tx[\"outputs\"].append(tx_out)\n",
    "\n",
    "    if(tx[\"flag\"]):\n",
    "        for j in range(int(tx[\"tx_in_cnt\"], 16)):\n",
    "            witness_str = \"\"\n",
    "            tx_witness_cnt = littleEndian(getVariableInt(block[offset:offset+18]))\n",
    "            witness_str += littleEndian(tx_witness_cnt)\n",
    "            offset = offset+len(tx_witness_cnt) if len(tx_witness_cnt) <= 2 else offset+len(tx_witness_cnt)+2\n",
    "            for i in range(int(tx_witness_cnt, 16)):\n",
    "                wit_len = littleEndian(getVariableInt(block[offset:offset+18]))\n",
    "                witness_str+=littleEndian(wit_len)\n",
    "                offset = offset+len(wit_len) if len(wit_len) <= 2 else offset+len(wit_len)+2\n",
    "                wit_comp = block[offset: offset+(int(wit_len, 16)*2)]; offset+= (int(wit_len, 16)*2)\n",
    "                witness_str+= wit_comp\n",
    "            \n",
    "            tx[\"inputs\"][j][\"witness\"] = witness_str\n",
    "\n",
    "    tx[\"lock_time\"] = littleEndian(block[offset:offset+8]); offset+=8\n",
    "    transactions.append(tx)\n",
    "\n"
   ]
  },
  {
   "cell_type": "code",
   "execution_count": 10,
   "metadata": {},
   "outputs": [
    {
     "data": {
      "text/plain": [
       "{'blockheader': {'version': '21cce000',\n",
       "  'prev_block': '00000000000000000002170d4b2aab21130dded8db8ba94f56adc1ca2e7b3490',\n",
       "  'merkle_root': '09e9f79632a969777bf7539958fe75deb9e1ec8def23076befe768ff87387e80',\n",
       "  'timestamp': '61a5cc10',\n",
       "  'bits': '170c9a13',\n",
       "  'nonce': '03ec146d'},\n",
       " 'tx_cnt': '0b1e'}"
      ]
     },
     "execution_count": 10,
     "metadata": {},
     "output_type": "execute_result"
    }
   ],
   "source": [
    "blockJSON"
   ]
  },
  {
   "cell_type": "code",
   "execution_count": 17,
   "metadata": {},
   "outputs": [],
   "source": [
    "pk_script = bytes.fromhex(transactions[0]['outputs'][0][\"pk_script\"])\n"
   ]
  },
  {
   "cell_type": "code",
   "execution_count": 55,
   "metadata": {},
   "outputs": [
    {
     "ename": "NameError",
     "evalue": "name 'pk_script' is not defined",
     "output_type": "error",
     "traceback": [
      "\u001b[0;31m---------------------------------------------------------------------------\u001b[0m",
      "\u001b[0;31mNameError\u001b[0m                                 Traceback (most recent call last)",
      "\u001b[0;32m/tmp/ipykernel_126259/2447117039.py\u001b[0m in \u001b[0;36m<module>\u001b[0;34m\u001b[0m\n\u001b[0;32m----> 1\u001b[0;31m \u001b[0mpk_script\u001b[0m\u001b[0;34m\u001b[0m\u001b[0;34m\u001b[0m\u001b[0m\n\u001b[0m",
      "\u001b[0;31mNameError\u001b[0m: name 'pk_script' is not defined"
     ]
    }
   ],
   "source": [
    "\n",
    "pk_script"
   ]
  },
  {
   "cell_type": "code",
   "execution_count": 54,
   "metadata": {},
   "outputs": [
    {
     "ename": "NameError",
     "evalue": "name 'pk_script' is not defined",
     "output_type": "error",
     "traceback": [
      "\u001b[0;31m---------------------------------------------------------------------------\u001b[0m",
      "\u001b[0;31mNameError\u001b[0m                                 Traceback (most recent call last)",
      "\u001b[0;32m/tmp/ipykernel_126259/444050937.py\u001b[0m in \u001b[0;36m<module>\u001b[0;34m\u001b[0m\n\u001b[0;32m----> 1\u001b[0;31m \u001b[0ml\u001b[0m \u001b[0;34m=\u001b[0m \u001b[0mhashlib\u001b[0m\u001b[0;34m.\u001b[0m\u001b[0msha256\u001b[0m\u001b[0;34m(\u001b[0m\u001b[0mpk_script\u001b[0m\u001b[0;34m)\u001b[0m\u001b[0;34m.\u001b[0m\u001b[0mdigest\u001b[0m\u001b[0;34m(\u001b[0m\u001b[0;34m)\u001b[0m\u001b[0;34m[\u001b[0m\u001b[0;34m:\u001b[0m\u001b[0;34m:\u001b[0m\u001b[0;34m-\u001b[0m\u001b[0;36m1\u001b[0m\u001b[0;34m]\u001b[0m\u001b[0;34m\u001b[0m\u001b[0;34m\u001b[0m\u001b[0m\n\u001b[0m",
      "\u001b[0;31mNameError\u001b[0m: name 'pk_script' is not defined"
     ]
    }
   ],
   "source": [
    "l = hashlib.sha256(pk_script).digest()[::-1]"
   ]
  },
  {
   "cell_type": "code",
   "execution_count": 40,
   "metadata": {},
   "outputs": [
    {
     "data": {
      "text/plain": [
       "b'\\xf1\\xdd\\xcc\\x1e\\xf4\\xb2\\xe4\\x1a\\xd4K\\x86_xp\\x05F7}\\xc3\\x84.\\x91\\xf4\"\\x9b\\x82\\xfe4\\x9e<!n'"
      ]
     },
     "execution_count": 40,
     "metadata": {},
     "output_type": "execute_result"
    }
   ],
   "source": [
    "l"
   ]
  },
  {
   "cell_type": "code",
   "execution_count": 42,
   "metadata": {},
   "outputs": [
    {
     "ename": "AttributeError",
     "evalue": "'bytes' object has no attribute 'iterbytes'",
     "output_type": "error",
     "traceback": [
      "\u001b[0;31m---------------------------------------------------------------------------\u001b[0m",
      "\u001b[0;31mAttributeError\u001b[0m                            Traceback (most recent call last)",
      "\u001b[0;32m/tmp/ipykernel_65024/3336780338.py\u001b[0m in \u001b[0;36m<module>\u001b[0;34m\u001b[0m\n\u001b[0;32m----> 1\u001b[0;31m \u001b[0;34m''\u001b[0m\u001b[0;34m.\u001b[0m\u001b[0mjoin\u001b[0m\u001b[0;34m(\u001b[0m\u001b[0;34m(\u001b[0m\u001b[0;34m'%02x'\u001b[0m \u001b[0;34m%\u001b[0m \u001b[0mord\u001b[0m\u001b[0;34m(\u001b[0m\u001b[0ma\u001b[0m\u001b[0;34m)\u001b[0m\u001b[0;34m)\u001b[0m \u001b[0;32mfor\u001b[0m \u001b[0ma\u001b[0m \u001b[0;32min\u001b[0m \u001b[0ml\u001b[0m\u001b[0;34m.\u001b[0m\u001b[0miterbytes\u001b[0m\u001b[0;34m(\u001b[0m\u001b[0;34m)\u001b[0m\u001b[0;34m)\u001b[0m\u001b[0;34m\u001b[0m\u001b[0;34m\u001b[0m\u001b[0m\n\u001b[0m",
      "\u001b[0;31mAttributeError\u001b[0m: 'bytes' object has no attribute 'iterbytes'"
     ]
    }
   ],
   "source": [
    "''.join(('%02x' % ord(a)) for a in l.iterbytes())"
   ]
  },
  {
   "cell_type": "code",
   "execution_count": 43,
   "metadata": {},
   "outputs": [],
   "source": [
    "dt =datetime.fromtimestamp(int(blockJSON[\"blockheader\"][\"timestamp\"], 16))"
   ]
  },
  {
   "cell_type": "code",
   "execution_count": 47,
   "metadata": {},
   "outputs": [
    {
     "data": {
      "text/plain": [
       "'27-02-2018'"
      ]
     },
     "execution_count": 47,
     "metadata": {},
     "output_type": "execute_result"
    }
   ],
   "source": [
    "dt.strftime(\"%d-%m-%Y\")"
   ]
  },
  {
   "cell_type": "code",
   "execution_count": 145,
   "metadata": {},
   "outputs": [],
   "source": [
    "for i in range(int(tx[\"tx_in_cnt\"], 16)):\n",
    "    tx_in = {}\n",
    "    outpoint={}\n",
    "    outpoint[\"hash\"] = littleEndian(block[offset:offset+64]); offset+=64\n",
    "    outpoint[\"index\"] = littleEndian(block[offset:offset+8]); offset+=8\n",
    "    tx_in[\"prev_out\"] = outpoint\n",
    "    tx_in[\"script_len\"] = littleEndian(getVariableInt(block[offset:offset+18]))\n",
    "    offset = offset+len(tx_in[\"script_len\"]) if len(tx_in[\"script_len\"]) <= 2 else offset+len(tx_in[\"script_len\"])+2\n",
    "    tx_in[\"sig_script\"] = block[offset: offset+(int(tx_in[\"script_len\"], 16)*2)]; offset+= (int(tx_in[\"script_len\"], 16)*2)\n",
    "    tx_in[\"sequence\"] = block[offset:offset+8];offset+=8\n",
    "    tx[\"inputs\"].append(tx_in)"
   ]
  },
  {
   "cell_type": "code",
   "execution_count": 146,
   "metadata": {},
   "outputs": [],
   "source": [
    "tx[\"tx_out_cnt\"] = littleEndian(getVariableInt(block[offset:offset+18]))\n",
    "offset = offset+len(tx[\"tx_out_cnt\"]) if len(tx[\"tx_out_cnt\"]) <= 2 else offset+len(tx[\"tx_out_cnt\"])+2"
   ]
  },
  {
   "cell_type": "code",
   "execution_count": 147,
   "metadata": {},
   "outputs": [
    {
     "data": {
      "text/plain": [
       "'02'"
      ]
     },
     "execution_count": 147,
     "metadata": {},
     "output_type": "execute_result"
    }
   ],
   "source": [
    "tx[\"tx_out_cnt\"]"
   ]
  },
  {
   "cell_type": "code",
   "execution_count": 148,
   "metadata": {},
   "outputs": [],
   "source": [
    "for i in range(int(tx[\"tx_out_cnt\"], 16)):    \n",
    "    tx_out = {}\n",
    "    tx_out[\"value\"] = block[offset:offset+16]; offset+=16\n",
    "    tx_out[\"pk_script_len\"] = littleEndian(getVariableInt(block[offset:offset+18]))\n",
    "    offset = offset+len(tx_out[\"pk_script_len\"]) if len(tx_out[\"pk_script_len\"]) <= 2 else offset+len(tx_out[\"pk_script_len\"])+2\n",
    "    tx_out[\"pk_script\"] = block[offset: offset+(int(tx_out[\"pk_script_len\"], 16)*2)]; offset+= (int(tx_out[\"pk_script_len\"], 16)*2)\n",
    "    tx[\"outputs\"].append(tx_out)"
   ]
  },
  {
   "cell_type": "code",
   "execution_count": 149,
   "metadata": {},
   "outputs": [
    {
     "data": {
      "text/plain": [
       "'038acc0741d6a541b444b37241d6a541b32893932f4254432e544f502ffabe6d6d6c7ca42c4f7df4e0f29df2abc12894fd3e86bf4318315c00a080aeed081062fd8000000000000000cb009e2991da010000000000'"
      ]
     },
     "execution_count": 149,
     "metadata": {},
     "output_type": "execute_result"
    }
   ],
   "source": [
    "tx[\"inputs\"][0][\"sig_script\"]"
   ]
  },
  {
   "cell_type": "code",
   "execution_count": 35,
   "metadata": {},
   "outputs": [],
   "source": [
    "if(tx[\"flag\"]):\n",
    "    for i in range(int(tx[\"tx_in_cnt\"], 16)):\n",
    "        witness_str = \"\"\n",
    "        tx_witness_cnt = littleEndian(getVariableInt(block[offset:offset+18]))\n",
    "        witness_str += littleEndian(tx_witness_cnt)\n",
    "        offset = offset+len(tx_witness_cnt) if len(tx_witness_cnt) <= 2 else offset+len(tx_witness_cnt)+2\n",
    "        for i in range(int(tx_witness_cnt, 16)):\n",
    "            wit_len = littleEndian(getVariableInt(block[offset:offset+18]))\n",
    "            witness_str+=littleEndian(wit_len)\n",
    "            offset = offset+len(wit_len) if len(wit_len) <= 2 else offset+len(wit_len)+2\n",
    "            wit_comp = block[offset: offset+(int(wit_len, 16)*2)]; offset+= (int(wit_len, 16)*2)\n",
    "            witness_str+= wit_comp\n",
    "            tx[\"inputs\"][i][\"witness\"] = witness_str"
   ]
  },
  {
   "cell_type": "code",
   "execution_count": 36,
   "metadata": {},
   "outputs": [
    {
     "data": {
      "text/plain": [
       "{'inputs': [{'prev_out': {'hash': '0000000000000000000000000000000000000000000000000000000000000000',\n",
       "    'index': 'ffffffff'},\n",
       "   'script_len': '55',\n",
       "   'sig_script': '038acc0741d6a541b444b37241d6a541b32893932f4254432e544f502ffabe6d6d6c7ca42c4f7df4e0f29df2abc12894fd3e86bf4318315c00a080aeed081062fd8000000000000000cb009e2991da010000000000',\n",
       "   'sequence': 'ffffffff',\n",
       "   'witness': '01200000000000000000000000000000000000000000000000000000000000000000'}],\n",
       " 'outputs': [{'value': 'd111904f00000000',\n",
       "   'pk_script_len': '19',\n",
       "   'pk_script': '76a914ba507bae8f1643d2556000ca26b9301b9069dc6b88ac'},\n",
       "  {'value': '0000000000000000',\n",
       "   'pk_script_len': '26',\n",
       "   'pk_script': '6a24aa21a9edb89df5739294fd833d0f192e14b3e96ad64711dfeb9e6c8b75cf3fdb5b4d7f15'}],\n",
       " 'witness': [],\n",
       " 'version': '00000001',\n",
       " 'flag': True,\n",
       " 'tx_in_cnt': '01',\n",
       " 'tx_out_cnt': '02'}"
      ]
     },
     "execution_count": 36,
     "metadata": {},
     "output_type": "execute_result"
    }
   ],
   "source": [
    "tx"
   ]
  },
  {
   "cell_type": "code",
   "execution_count": 37,
   "metadata": {},
   "outputs": [],
   "source": [
    "tx[\"lock_time\"] = littleEndian(block[offset:offset+8]); offset+=8"
   ]
  },
  {
   "cell_type": "code",
   "execution_count": 153,
   "metadata": {},
   "outputs": [
    {
     "data": {
      "text/plain": [
       "'00000000'"
      ]
     },
     "execution_count": 153,
     "metadata": {},
     "output_type": "execute_result"
    }
   ],
   "source": [
    "tx[\"lock_time\"]"
   ]
  },
  {
   "cell_type": "code",
   "execution_count": 140,
   "metadata": {},
   "outputs": [
    {
     "data": {
      "text/plain": [
       "'200000000000000000000000000000000000000000000000000000000000000000000000000200000004ff6a380b52aa7e56b7'"
      ]
     },
     "execution_count": 140,
     "metadata": {},
     "output_type": "execute_result"
    }
   ],
   "source": [
    "block[598:700]"
   ]
  },
  {
   "cell_type": "code",
   "execution_count": null,
   "metadata": {},
   "outputs": [],
   "source": []
  }
 ],
 "metadata": {
  "interpreter": {
   "hash": "31f2aee4e71d21fbe5cf8b01ff0e069b9275f58929596ceb00d14d90e3e16cd6"
  },
  "kernelspec": {
   "display_name": "Python 3.8.10 64-bit",
   "language": "python",
   "name": "python3"
  },
  "language_info": {
   "codemirror_mode": {
    "name": "ipython",
    "version": 3
   },
   "file_extension": ".py",
   "mimetype": "text/x-python",
   "name": "python",
   "nbconvert_exporter": "python",
   "pygments_lexer": "ipython3",
   "version": "3.8.10"
  },
  "orig_nbformat": 4
 },
 "nbformat": 4,
 "nbformat_minor": 2
}
